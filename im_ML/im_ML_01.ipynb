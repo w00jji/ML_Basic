{
 "cells": [
  {
   "cell_type": "markdown",
   "id": "22b87019-3134-49dd-8f5a-c44d924f85a9",
   "metadata": {
    "jp-MarkdownHeadingCollapsed": true
   },
   "source": [
    "### 문제\n",
    "- 1부터100까지 출력"
   ]
  },
  {
   "cell_type": "code",
   "execution_count": 3,
   "id": "6d6631b1-c77a-4568-b266-f257d40285e1",
   "metadata": {},
   "outputs": [
    {
     "name": "stdout",
     "output_type": "stream",
     "text": [
      "1 2 3 4 5 6 7 8 9 10 \n",
      "11 12 13 14 15 16 17 18 19 20 \n",
      "21 22 23 24 25 26 27 28 29 30 \n",
      "31 32 33 34 35 36 37 38 39 40 \n",
      "41 42 43 44 45 46 47 48 49 50 \n",
      "51 52 53 54 55 56 57 58 59 60 \n",
      "61 62 63 64 65 66 67 68 69 70 \n",
      "71 72 73 74 75 76 77 78 79 80 \n",
      "81 82 83 84 85 86 87 88 89 90 \n",
      "91 92 93 94 95 96 97 98 99 100 \n"
     ]
    }
   ],
   "source": [
    "i=1\n",
    "for i in range(1,101):\n",
    "    print(i,end=' ')\n",
    "    if i%10 == 0:\n",
    "        print()\n",
    "    "
   ]
  },
  {
   "cell_type": "code",
   "execution_count": 4,
   "id": "8963c2f8-4ce3-4caf-8fae-1ce69637c6df",
   "metadata": {},
   "outputs": [
    {
     "name": "stdout",
     "output_type": "stream",
     "text": [
      "1 2 0 4 5 0 7 8 0 10 \n",
      "11 0 13 14 0 16 17 0 19 20 \n",
      "0 22 23 0 25 26 0 28 29 0 \n",
      "31 32 0 34 35 0 37 38 0 40 \n",
      "41 0 43 44 0 46 47 0 49 50 \n",
      "0 52 53 0 55 56 0 58 59 0 \n",
      "61 62 0 64 65 0 67 68 0 70 \n",
      "71 0 73 74 0 76 77 0 79 80 \n",
      "0 82 83 0 85 86 0 88 89 0 \n",
      "91 92 0 94 95 0 97 98 0 100 \n"
     ]
    }
   ],
   "source": [
    "i=1\n",
    "for i in range(1,101):\n",
    "    if i%3==0:\n",
    "        print(0,end=' ')\n",
    "    else:\n",
    "        print(i,end=' ')\n",
    "    if i%10 == 0:\n",
    "        print()\n",
    "    "
   ]
  },
  {
   "cell_type": "markdown",
   "id": "b11cba6d-56e4-4925-ab34-45a614f11f98",
   "metadata": {
    "jp-MarkdownHeadingCollapsed": true
   },
   "source": [
    "### 문제\n",
    "- 총 6개의 난수를 생성하여 로또 번호를 출력. 이 떄 총 4번의 로또 번호를 생성(4행 6열)\n",
    "- 힌트) numpy 반올림 함수 -> .round(x1,x2) : X1 : 반올림 대상 실수 , x2 : 반올림 대상 자릿수 생략가능 , 생략 시 기본 값 0\n",
    "\n"
   ]
  },
  {
   "cell_type": "code",
   "execution_count": 6,
   "id": "1610687f-c2a7-4721-b6d4-cfd32dc1da07",
   "metadata": {},
   "outputs": [
    {
     "name": "stdout",
     "output_type": "stream",
     "text": [
      "[[44 27 25 24  5 28]\n",
      " [11 43 10 23 33 21]\n",
      " [45 22 23 34  2 33]\n",
      " [12 11 12  8 45 23]]\n"
     ]
    }
   ],
   "source": [
    "import numpy as np\n",
    "import pandas as pd\n",
    "\n",
    "\n",
    "# 난수 생성 범위 및 크기 설정\n",
    "low = 1\n",
    "high = 46  # 45를 포함하기 위해 46으로 설정\n",
    "size = (4, 6)  # 4행 6열\n",
    "\n",
    "# 난수 생성 및 반올림 (소수점 아래 자릿수를 생략하기 위해 사용)\n",
    "lotto_numbers = np.random.uniform(low, high, size).round()\n",
    "\n",
    "# 정수형으로 변환 후 출력\n",
    "lotto_numbers = lotto_numbers.astype(int)\n",
    "print(lotto_numbers)"
   ]
  },
  {
   "cell_type": "markdown",
   "id": "fa424122-06ae-40ed-b74a-e6fd0bffc45c",
   "metadata": {
    "jp-MarkdownHeadingCollapsed": true
   },
   "source": [
    "### 리스트 문제"
   ]
  },
  {
   "cell_type": "code",
   "execution_count": 8,
   "id": "de991c24-97c1-481f-8917-22b4097f1321",
   "metadata": {},
   "outputs": [
    {
     "data": {
      "text/html": [
       "<div>\n",
       "<style scoped>\n",
       "    .dataframe tbody tr th:only-of-type {\n",
       "        vertical-align: middle;\n",
       "    }\n",
       "\n",
       "    .dataframe tbody tr th {\n",
       "        vertical-align: top;\n",
       "    }\n",
       "\n",
       "    .dataframe thead th {\n",
       "        text-align: right;\n",
       "    }\n",
       "</style>\n",
       "<table border=\"1\" class=\"dataframe\">\n",
       "  <thead>\n",
       "    <tr style=\"text-align: right;\">\n",
       "      <th></th>\n",
       "      <th>사업부</th>\n",
       "      <th>현판매</th>\n",
       "      <th>판매 목표</th>\n",
       "    </tr>\n",
       "  </thead>\n",
       "  <tbody>\n",
       "    <tr>\n",
       "      <th>0</th>\n",
       "      <td>A</td>\n",
       "      <td>27783</td>\n",
       "      <td>32577</td>\n",
       "    </tr>\n",
       "    <tr>\n",
       "      <th>1</th>\n",
       "      <td>B</td>\n",
       "      <td>24382</td>\n",
       "      <td>39997</td>\n",
       "    </tr>\n",
       "    <tr>\n",
       "      <th>2</th>\n",
       "      <td>C</td>\n",
       "      <td>18355</td>\n",
       "      <td>21471</td>\n",
       "    </tr>\n",
       "    <tr>\n",
       "      <th>3</th>\n",
       "      <td>D</td>\n",
       "      <td>6904</td>\n",
       "      <td>10818</td>\n",
       "    </tr>\n",
       "  </tbody>\n",
       "</table>\n",
       "</div>"
      ],
      "text/plain": [
       "  사업부    현판매  판매 목표\n",
       "0   A  27783  32577\n",
       "1   B  24382  39997\n",
       "2   C  18355  21471\n",
       "3   D   6904  10818"
      ]
     },
     "execution_count": 8,
     "metadata": {},
     "output_type": "execute_result"
    }
   ],
   "source": [
    "import pandas as pd\n",
    "df = pd.DataFrame( data = {'사업부':['A','B','C','D'],\n",
    "                           '현판매':[27783,24382,18355,6904],\n",
    "                           '판매 목표':[32577,39997,21471,10818]})\n",
    "df"
   ]
  },
  {
   "cell_type": "code",
   "execution_count": 9,
   "id": "42ada75f-1183-448a-a12d-a6d5c5577440",
   "metadata": {},
   "outputs": [],
   "source": [
    "df['하루평균 금액']=df['현판매']/20"
   ]
  },
  {
   "cell_type": "code",
   "execution_count": 10,
   "id": "b4722abb-3718-4cef-b6d1-d22656a88819",
   "metadata": {},
   "outputs": [
    {
     "data": {
      "text/html": [
       "<div>\n",
       "<style scoped>\n",
       "    .dataframe tbody tr th:only-of-type {\n",
       "        vertical-align: middle;\n",
       "    }\n",
       "\n",
       "    .dataframe tbody tr th {\n",
       "        vertical-align: top;\n",
       "    }\n",
       "\n",
       "    .dataframe thead th {\n",
       "        text-align: right;\n",
       "    }\n",
       "</style>\n",
       "<table border=\"1\" class=\"dataframe\">\n",
       "  <thead>\n",
       "    <tr style=\"text-align: right;\">\n",
       "      <th></th>\n",
       "      <th>사업부</th>\n",
       "      <th>현판매</th>\n",
       "      <th>판매 목표</th>\n",
       "      <th>하루평균 금액</th>\n",
       "    </tr>\n",
       "  </thead>\n",
       "  <tbody>\n",
       "    <tr>\n",
       "      <th>0</th>\n",
       "      <td>A</td>\n",
       "      <td>27783</td>\n",
       "      <td>32577</td>\n",
       "      <td>1389.15</td>\n",
       "    </tr>\n",
       "    <tr>\n",
       "      <th>1</th>\n",
       "      <td>B</td>\n",
       "      <td>24382</td>\n",
       "      <td>39997</td>\n",
       "      <td>1219.10</td>\n",
       "    </tr>\n",
       "    <tr>\n",
       "      <th>2</th>\n",
       "      <td>C</td>\n",
       "      <td>18355</td>\n",
       "      <td>21471</td>\n",
       "      <td>917.75</td>\n",
       "    </tr>\n",
       "    <tr>\n",
       "      <th>3</th>\n",
       "      <td>D</td>\n",
       "      <td>6904</td>\n",
       "      <td>10818</td>\n",
       "      <td>345.20</td>\n",
       "    </tr>\n",
       "  </tbody>\n",
       "</table>\n",
       "</div>"
      ],
      "text/plain": [
       "  사업부    현판매  판매 목표  하루평균 금액\n",
       "0   A  27783  32577  1389.15\n",
       "1   B  24382  39997  1219.10\n",
       "2   C  18355  21471   917.75\n",
       "3   D   6904  10818   345.20"
      ]
     },
     "execution_count": 10,
     "metadata": {},
     "output_type": "execute_result"
    }
   ],
   "source": [
    "df"
   ]
  },
  {
   "cell_type": "code",
   "execution_count": 11,
   "id": "e5e090cb-d734-4564-a6b6-96b232818895",
   "metadata": {},
   "outputs": [
    {
     "data": {
      "text/html": [
       "<div>\n",
       "<style scoped>\n",
       "    .dataframe tbody tr th:only-of-type {\n",
       "        vertical-align: middle;\n",
       "    }\n",
       "\n",
       "    .dataframe tbody tr th {\n",
       "        vertical-align: top;\n",
       "    }\n",
       "\n",
       "    .dataframe thead th {\n",
       "        text-align: right;\n",
       "    }\n",
       "</style>\n",
       "<table border=\"1\" class=\"dataframe\">\n",
       "  <thead>\n",
       "    <tr style=\"text-align: right;\">\n",
       "      <th></th>\n",
       "      <th>사업부</th>\n",
       "      <th>현판매</th>\n",
       "      <th>판매 목표</th>\n",
       "      <th>하루평균 금액</th>\n",
       "      <th>30일 판매 예상 금액</th>\n",
       "    </tr>\n",
       "  </thead>\n",
       "  <tbody>\n",
       "    <tr>\n",
       "      <th>0</th>\n",
       "      <td>A</td>\n",
       "      <td>27783</td>\n",
       "      <td>32577</td>\n",
       "      <td>1389.15</td>\n",
       "      <td>41674.5</td>\n",
       "    </tr>\n",
       "    <tr>\n",
       "      <th>1</th>\n",
       "      <td>B</td>\n",
       "      <td>24382</td>\n",
       "      <td>39997</td>\n",
       "      <td>1219.10</td>\n",
       "      <td>36573.0</td>\n",
       "    </tr>\n",
       "    <tr>\n",
       "      <th>2</th>\n",
       "      <td>C</td>\n",
       "      <td>18355</td>\n",
       "      <td>21471</td>\n",
       "      <td>917.75</td>\n",
       "      <td>27532.5</td>\n",
       "    </tr>\n",
       "    <tr>\n",
       "      <th>3</th>\n",
       "      <td>D</td>\n",
       "      <td>6904</td>\n",
       "      <td>10818</td>\n",
       "      <td>345.20</td>\n",
       "      <td>10356.0</td>\n",
       "    </tr>\n",
       "  </tbody>\n",
       "</table>\n",
       "</div>"
      ],
      "text/plain": [
       "  사업부    현판매  판매 목표  하루평균 금액  30일 판매 예상 금액\n",
       "0   A  27783  32577  1389.15       41674.5\n",
       "1   B  24382  39997  1219.10       36573.0\n",
       "2   C  18355  21471   917.75       27532.5\n",
       "3   D   6904  10818   345.20       10356.0"
      ]
     },
     "execution_count": 11,
     "metadata": {},
     "output_type": "execute_result"
    }
   ],
   "source": [
    "df['30일 판매 예상 금액']=df['하루평균 금액']*30\n",
    "df"
   ]
  },
  {
   "cell_type": "code",
   "execution_count": 12,
   "id": "4df27844-bcc5-4e37-879f-83e48f4a182d",
   "metadata": {},
   "outputs": [
    {
     "data": {
      "text/html": [
       "<div>\n",
       "<style scoped>\n",
       "    .dataframe tbody tr th:only-of-type {\n",
       "        vertical-align: middle;\n",
       "    }\n",
       "\n",
       "    .dataframe tbody tr th {\n",
       "        vertical-align: top;\n",
       "    }\n",
       "\n",
       "    .dataframe thead th {\n",
       "        text-align: right;\n",
       "    }\n",
       "</style>\n",
       "<table border=\"1\" class=\"dataframe\">\n",
       "  <thead>\n",
       "    <tr style=\"text-align: right;\">\n",
       "      <th></th>\n",
       "      <th>0</th>\n",
       "      <th>1</th>\n",
       "      <th>2</th>\n",
       "      <th>3</th>\n",
       "    </tr>\n",
       "  </thead>\n",
       "  <tbody>\n",
       "    <tr>\n",
       "      <th>30일 판매 예상 금액</th>\n",
       "      <td>41674.5</td>\n",
       "      <td>36573.0</td>\n",
       "      <td>27532.5</td>\n",
       "      <td>10356.0</td>\n",
       "    </tr>\n",
       "  </tbody>\n",
       "</table>\n",
       "</div>"
      ],
      "text/plain": [
       "                    0        1        2        3\n",
       "30일 판매 예상 금액  41674.5  36573.0  27532.5  10356.0"
      ]
     },
     "execution_count": 12,
     "metadata": {},
     "output_type": "execute_result"
    }
   ],
   "source": [
    "df[['30일 판매 예상 금액']].T"
   ]
  },
  {
   "cell_type": "markdown",
   "id": "dbfa4e43-8825-4758-8cca-4dbcf6b8aaff",
   "metadata": {
    "jp-MarkdownHeadingCollapsed": true
   },
   "source": [
    "### 확률밀도 구하기"
   ]
  },
  {
   "cell_type": "code",
   "execution_count": 14,
   "id": "7f6ca7da-ef92-4601-9d5b-01059e9675ca",
   "metadata": {
    "scrolled": true
   },
   "outputs": [
    {
     "name": "stdout",
     "output_type": "stream",
     "text": [
      "[6.38077860e-04 3.72559775e-04 4.16597615e-04 6.19709121e-04\n",
      " 6.06263142e-04 2.52601423e-04 2.72054773e-04 2.68970980e-04\n",
      " 2.58607342e-04 2.00790197e-04 2.73912628e-04 5.70296359e-04\n",
      " 4.39978694e-04 3.75983854e-04 2.91515407e-04 2.89607474e-04\n",
      " 3.67774368e-04 4.63143811e-04 4.26571615e-05 3.10380420e-05\n",
      " 1.80657072e-05 1.84799394e-05 1.45476966e-05 2.12586237e-04\n",
      " 5.28403715e-04 4.15219015e-04 1.34779087e-04 4.57921848e-05\n",
      " 5.54934073e-05 1.03464655e-04 3.22681938e-04 2.94067152e-04\n",
      " 1.58175969e-05 1.57609370e-04 3.81471426e-04 4.37921942e-04\n",
      " 5.50232517e-04 5.58982277e-04 2.13677759e-04 1.68737895e-04\n",
      " 1.79369165e-04 2.72673431e-04 2.45485792e-04 2.49624297e-04\n",
      " 1.55802455e-04 4.18182062e-05 2.76908962e-05 1.28702259e-05\n",
      " 6.25209684e-05 1.38071269e-04 5.71956877e-04 6.68412364e-04\n",
      " 4.27616967e-04 3.86280918e-04 2.11497881e-04 1.85339951e-04\n",
      " 2.45485792e-04 5.20893943e-04 6.29516780e-04 1.68737895e-04\n",
      " 1.31943145e-04 1.81842322e-04 1.08277158e-04 4.54322618e-04\n",
      " 6.70491001e-04 4.61790114e-04 6.39132038e-04 6.71711546e-04\n",
      " 6.65273345e-04 6.72368128e-04 5.80210000e-04 5.30380811e-04\n",
      " 6.68438428e-04 6.62673201e-04 6.69723613e-04 6.73443726e-04\n",
      " 6.68412364e-04 6.72108941e-04 6.62433053e-04 4.91211180e-04\n",
      " 6.25536298e-04 6.71629062e-04 6.73272877e-04 6.72493042e-04\n",
      " 5.32849546e-04 5.34079087e-04 6.59639075e-04 6.03900084e-04\n",
      " 6.61815529e-04 6.44504579e-04 6.31065701e-04 6.60088841e-04\n",
      " 5.71508805e-04 6.65992392e-04 6.65653122e-04 6.73342493e-04\n",
      " 6.70184902e-04 5.57359098e-04 5.22899955e-04 3.45506446e-04\n",
      " 4.03627972e-04 6.31521198e-04 6.39545694e-04 6.71188106e-04\n",
      " 6.48910539e-04 5.21012879e-04 5.92193226e-04 6.21062071e-04\n",
      " 6.59907270e-04 6.58527611e-04 6.52089548e-04 3.87786027e-04\n",
      " 4.29122519e-04 6.48910539e-04 6.71885434e-04 6.63462302e-04\n",
      " 6.72729884e-04 5.57937381e-04 3.27443049e-04 2.71553339e-04\n",
      " 3.40126499e-04 5.64232094e-04 6.15893092e-04 6.26822224e-04\n",
      " 5.98185195e-04 3.40797783e-04 3.13598488e-04 4.18106092e-04\n",
      " 5.06338138e-04 5.20382403e-04 5.46785402e-04 4.35993160e-04\n",
      " 2.77762888e-04 2.75893515e-04 6.03513485e-04 6.14568178e-04\n",
      " 6.73325370e-04 6.73346296e-04 6.64772553e-04 6.58717938e-04\n",
      " 4.97241674e-04 6.07752389e-04 5.97199358e-04 6.23566843e-04\n",
      " 5.91685653e-04 3.76113190e-04 4.13280954e-04 6.21062071e-04\n",
      " 6.20639398e-04 6.61221984e-04 6.72781465e-04 6.54534247e-04\n",
      " 4.57170435e-04 5.21642633e-04 6.66324238e-04 6.64772553e-04\n",
      " 6.72108941e-04 6.52089548e-04 6.16769167e-04 4.98548142e-04\n",
      " 5.73162129e-04 6.33037609e-04 6.63654996e-04 6.29590422e-04\n",
      " 6.55830957e-04 6.47089021e-04 5.55036140e-04 3.82974515e-04\n",
      " 6.04938672e-04 6.72315280e-04 6.73439056e-04 6.72781465e-04\n",
      " 6.71016644e-04 4.58528390e-04 5.97692925e-04 6.54003236e-04\n",
      " 6.64772553e-04 6.57083424e-04 6.33786343e-04 5.67612958e-04\n",
      " 5.04398705e-04 6.64222057e-04 6.57328584e-04 6.44565415e-04\n",
      " 6.68273153e-04 6.58994688e-04 4.27746811e-04 5.17219337e-04\n",
      " 6.66324238e-04 6.64556407e-04 6.72108941e-04 6.59225533e-04\n",
      " 6.53193565e-04 4.70018712e-04 3.74742933e-04 6.24798978e-04\n",
      " 6.72878887e-04 6.03423420e-04 5.68626078e-04 6.58246597e-04\n",
      " 6.56587763e-04 5.37747982e-04 6.73447745e-04 6.51243274e-04\n",
      " 6.51809192e-04 6.26017492e-04 5.64232094e-04 4.16038429e-04\n",
      " 3.24129217e-04 6.38497322e-04 6.23566843e-04 5.47975265e-04\n",
      " 5.30380811e-04 6.72108941e-04 3.88473875e-04 3.04482877e-04\n",
      " 6.43591340e-04 5.27899444e-04 4.65299342e-04 4.16038429e-04\n",
      " 3.34769265e-04 2.58117566e-04 4.67998293e-04 5.03102710e-04\n",
      " 4.59885135e-04 4.57170435e-04 4.72035746e-04 3.01896454e-04\n",
      " 2.55108824e-04 5.20382403e-04 5.80210000e-04 5.75351048e-04\n",
      " 5.08271992e-04 3.96046711e-04 2.19287174e-04 2.92272813e-04\n",
      " 4.29122519e-04 4.18795208e-04 4.48316652e-04 4.83395972e-04\n",
      " 4.24305646e-04 1.94618813e-04 2.39744096e-04 4.91335494e-04\n",
      " 4.59206916e-04 4.19484263e-04 6.16331852e-04 4.63947776e-04\n",
      " 1.92040799e-04 2.05135434e-04 4.05696381e-04 4.86050281e-04\n",
      " 4.53089666e-04 5.10200147e-04 2.90362874e-04 2.78387236e-04\n",
      " 5.51522691e-04 6.62471353e-04 6.66487375e-04 4.59206916e-04\n",
      " 4.74719658e-04 1.79462137e-04 1.38149596e-04 4.05006891e-04\n",
      " 4.27058787e-04 5.14676333e-04 4.80067678e-04 4.46267421e-04\n",
      " 2.43833521e-04 1.65061969e-04 2.40326128e-04 5.40177116e-04\n",
      " 5.49753167e-04 5.59666261e-04 5.99165830e-04 2.89092401e-04\n",
      " 2.38582218e-04 6.02556641e-04 5.47380790e-04 5.67612958e-04\n",
      " 4.83395972e-04 4.46267421e-04 2.85926226e-04 2.47366724e-04\n",
      " 5.83924346e-04 5.43194142e-04 6.10059338e-04 6.44242395e-04\n",
      " 6.26420621e-04 5.78600646e-04 4.48999259e-04 6.61007393e-04\n",
      " 6.47089021e-04 6.47703008e-04 6.58527611e-04 6.39197867e-04\n",
      " 4.05696381e-04 6.71112078e-04 6.21483260e-04 6.05882034e-04\n",
      " 6.66936028e-04 6.05411032e-04 4.78065363e-04 4.89357296e-04\n",
      " 5.65927258e-04 5.75895481e-04 6.21902963e-04 6.61854861e-04\n",
      " 6.68818736e-04 6.67427092e-04 6.66456728e-04 2.88972628e-04\n",
      " 2.83284948e-04 5.69183916e-04 6.44504579e-04 6.53952763e-04\n",
      " 6.56836483e-04 6.24798978e-04 5.20263331e-04 4.00051141e-04\n",
      " 4.40663911e-04 4.82605712e-04 5.01681680e-04 6.70295499e-04\n",
      " 6.53414073e-04 2.80145698e-04 1.19132539e-04 3.81315758e-05\n",
      " 1.15431137e-04 7.94958822e-05 2.64680625e-04 1.93487761e-04\n",
      " 3.35913263e-05 2.18628534e-04 5.01031492e-04 4.66522174e-04\n",
      " 6.65992392e-04 6.73408459e-04 4.78607220e-04 4.15908336e-04\n",
      " 2.65291585e-04 2.20292853e-04 1.11455592e-04 2.46074883e-04\n",
      " 3.56878668e-04 1.19882842e-04 7.43577072e-05 3.32640600e-04\n",
      " 5.99073515e-04 5.53868824e-04 4.33246615e-04 5.70401112e-04\n",
      " 6.69603569e-04 5.18999958e-04 5.58405794e-04]\n"
     ]
    }
   ],
   "source": [
    "import pandas as pd\n",
    "import numpy as np\n",
    "import scipy.stats as sp\n",
    "\n",
    "# Display options\n",
    "pd.set_option('display.max_rows', None)\n",
    "pd.set_option('display.max_columns', None)\n",
    "\n",
    "# Load dataset\n",
    "pd_DataSet = pd.read_csv('im_ML/Value_Sample.csv')\n",
    "\n",
    "# Create DataFrame\n",
    "DF = pd.DataFrame(pd_DataSet)\n",
    "\n",
    "# Drop rows with any missing values\n",
    "New_DF = DF.dropna(how='any')\n",
    "\n",
    "# Extract 'Y1' column\n",
    "Re_Y = New_DF['Y1']\n",
    "\n",
    "# Calculate statistics\n",
    "Y1_Avg = np.average(Re_Y)\n",
    "Y1_Var = np.var(Re_Y)\n",
    "Y1_Std = np.std(Re_Y)\n",
    "\n",
    "# Calculate normal distribution PDF\n",
    "Norm_Pdf = sp.norm.pdf(Re_Y, Y1_Avg, Y1_Std)\n",
    "\n",
    "# Print result\n",
    "print(Norm_Pdf)\n"
   ]
  },
  {
   "cell_type": "code",
   "execution_count": 15,
   "id": "9ba149c5-3152-4988-81d5-7f95afb545b7",
   "metadata": {},
   "outputs": [
    {
     "data": {
      "image/png": "[encoded data removed]",
      "text/plain": [
       "<Figure size 640x480 with 1 Axes>"
      ]
     },
     "metadata": {},
     "output_type": "display_data"
    }
   ],
   "source": [
    "### 정규분포 확인하기\n",
    "import matplotlib.pyplot as plt\n",
    "plt.plot(Re_Y,Norm_Pdf)\n",
    "plt.show()"
   ]
  },
  {
   "cell_type": "code",
   "execution_count": 16,
   "id": "8db66d7a-32f1-4805-b2f0-923a2e1f291b",
   "metadata": {
    "scrolled": true
   },
   "outputs": [
    {
     "name": "stdout",
     "output_type": "stream",
     "text": [
      "[0.6287304  0.86173177 0.83648042 0.65830181 0.67669458 0.91930761\n",
      " 0.91091492 0.91226747 0.91675162 0.94011427 0.91009597 0.71790927\n",
      " 0.82191824 0.85986041 0.90218106 0.90305274 0.86432293 0.80656431\n",
      " 0.99059147 0.99344572 0.99642879 0.99633743 0.99719262 0.93556784\n",
      " 0.75694091 0.83731223 0.96357379 0.9897957  0.98726982 0.9735388\n",
      " 0.88744492 0.9010099  0.99691947 0.95583611 0.85683059 0.82323509\n",
      " 0.73752213 0.72920275 0.93514158 0.95192093 0.9480925  0.91064255\n",
      " 0.92229603 0.92056316 0.95646293 0.99080265 0.99423784 0.99754866\n",
      " 0.98538337 0.96248243 0.71619588 0.5487666  0.82972667 0.85414346\n",
      " 0.93599192 0.94590437 0.92229603 0.7632368  0.64330935 0.95192093\n",
      " 0.96450729 0.94718948 0.9720568  0.8125279  0.53738515 0.80748924\n",
      " 0.62681459 0.52866049 0.5621047  0.52261201 0.29255442 0.24474718\n",
      " 0.45135955 0.42872458 0.45805052 0.50174717 0.5487666  0.4748259\n",
      " 0.57206301 0.78652024 0.64958475 0.52933216 0.50915432 0.52126715\n",
      " 0.24687365 0.24794058 0.58065682 0.67972001 0.57404939 0.61654493\n",
      " 0.64078818 0.57933709 0.28334029 0.44068347 0.43935182 0.5071344\n",
      " 0.46073035 0.26922808 0.23842739 0.12397606 0.15580484 0.35996226\n",
      " 0.37394542 0.53268922 0.39263144 0.23686152 0.30603828 0.34367644\n",
      " 0.42012748 0.41617214 0.39978713 0.14670365 0.17121091 0.39263144\n",
      " 0.4728099  0.43137686 0.48155025 0.26978573 0.11489185 0.08886458\n",
      " 0.12123354 0.27595778 0.3362545  0.35241198 0.31318074 0.121574\n",
      " 0.10816126 0.16443305 0.2250463  0.23634082 0.25929032 0.1755365\n",
      " 0.09161111 0.09078062 0.31979023 0.33440881 0.49231935 0.49299268\n",
      " 0.43602574 0.58329354 0.21802111 0.32524101 0.31198535 0.34741036\n",
      " 0.30544634 0.14021056 0.1615232  0.34367644 0.34305559 0.4240909\n",
      " 0.48222301 0.40566704 0.1893811  0.23738285 0.44201579 0.43602574\n",
      " 0.4748259  0.39978713 0.33748716 0.2190169  0.2850573  0.36249139\n",
      " 0.43204042 0.35680946 0.40894297 0.38874341 0.26700329 0.14400599\n",
      " 0.32160291 0.47684254 0.49770649 0.48222301 0.46609523 0.1902968\n",
      " 0.3125828  0.4043585  0.43602574 0.41222528 0.36375821 0.27935333\n",
      " 0.22353019 0.43403224 0.41288248 0.38357672 0.54943494 0.41748966\n",
      " 0.17035404 0.23374681 0.44201579 0.56476437 0.4748259  0.41814878\n",
      " 0.4023977  0.19818959 0.13945971 0.34928291 0.48356867 0.68032367\n",
      " 0.71961765 0.5846105  0.4109116  0.25115607 0.50107372 0.39783212\n",
      " 0.39913518 0.35115914 0.27595778 0.16318184 0.11326292 0.37202835\n",
      " 0.34741036 0.26038508 0.24474718 0.4748259  0.14709178 0.1038348\n",
      " 0.38164448 0.24263062 0.19491597 0.16318184 0.11853397 0.08303878\n",
      " 0.19678257 0.22252269 0.19121522 0.1893811  0.19960267 0.10262204\n",
      " 0.08175572 0.23634082 0.29255442 0.28735433 0.22656822 0.15140663\n",
      " 0.06706404 0.09816593 0.17121091 0.16485151 0.18349539 0.20772402\n",
      " 0.16822391 0.0575507  0.07532367 0.21357248 0.19075567 0.16527065\n",
      " 0.33687061 0.19398672 0.05658406 0.0615477  0.15701882 0.20966291\n",
      " 0.18665032 0.22809593 0.09729197 0.09188918 0.26368359 0.42806201\n",
      " 0.44268219 0.19075567 0.20149619 0.05194136 0.03754364 0.15661347\n",
      " 0.16992664 0.23168301 0.20531536 0.18215351 0.07701617 0.04677541\n",
      " 0.0755637  0.25331193 0.26203168 0.27146214 0.31437809 0.09671252\n",
      " 0.07484534 0.31858416 0.2598374  0.27935333 0.20772402 0.18215351\n",
      " 0.09527498 0.07848976 0.29662893 0.25602037 0.32828555 0.38293231\n",
      " 0.35178535 0.2908162  0.18394405 0.42342978 0.38874341 0.3900382\n",
      " 0.41617214 0.37330605 0.15701882 0.4667663  0.34429771 0.32281373\n",
      " 0.5554435  0.32220808 0.20387815 0.21210144 0.27765302 0.28792995\n",
      " 0.34491941 0.42607552 0.54676075 0.44668397 0.55744359 0.90334203\n",
      " 0.90591716 0.71904875 0.61654493 0.59576493 0.41156832 0.34928291\n",
      " 0.76375738 0.8462802  0.82147792 0.79285014 0.77857691 0.46140059\n",
      " 0.59707229 0.90732573 0.96864752 0.99172154 0.96982027 0.9806435\n",
      " 0.91413524 0.94287403 0.99283201 0.93319625 0.77907827 0.80424014\n",
      " 0.44068347 0.50444089 0.79573379 0.83689667 0.91387025 0.93253787\n",
      " 0.97106805 0.92205025 0.87012007 0.9684085  0.98210469 0.88253012\n",
      " 0.68573498 0.26589438 0.17379802 0.28219838 0.45738086 0.76479664\n",
      " 0.72976144]\n"
     ]
    }
   ],
   "source": [
    "###누적분포함수\n",
    "A_interval = 3\n",
    "Bottom_Data = Re_Y.tail(A_interval)\n",
    "\n",
    "import scipy.stats as sp\n",
    "Norm_Cdf = sp.norm.cdf(Re_Y,Y1_Avg,Y1_Std)\n",
    "print(Norm_Cdf)\n"
   ]
  },
  {
   "cell_type": "code",
   "execution_count": 17,
   "id": "696437e1-eae2-4c83-810f-37b45b5f2f6b",
   "metadata": {},
   "outputs": [
    {
     "data": {
      "image/png": "[encoded data removed]",
      "text/plain": [
       "<Figure size 640x480 with 1 Axes>"
      ]
     },
     "metadata": {},
     "output_type": "display_data"
    }
   ],
   "source": [
    "plt.plot(Re_Y,Norm_Cdf)\n",
    "plt.show()"
   ]
  },
  {
   "cell_type": "code",
   "execution_count": 18,
   "id": "798caf58-1c92-4ba5-85dc-b5083663340a",
   "metadata": {},
   "outputs": [
    {
     "data": {
      "text/html": [
       "<div>\n",
       "<style scoped>\n",
       "    .dataframe tbody tr th:only-of-type {\n",
       "        vertical-align: middle;\n",
       "    }\n",
       "\n",
       "    .dataframe tbody tr th {\n",
       "        vertical-align: top;\n",
       "    }\n",
       "\n",
       "    .dataframe thead th {\n",
       "        text-align: right;\n",
       "    }\n",
       "</style>\n",
       "<table border=\"1\" class=\"dataframe\">\n",
       "  <thead>\n",
       "    <tr style=\"text-align: right;\">\n",
       "      <th></th>\n",
       "      <th>X1</th>\n",
       "      <th>X2</th>\n",
       "      <th>X3</th>\n",
       "      <th>X4</th>\n",
       "      <th>X5</th>\n",
       "      <th>Y1</th>\n",
       "    </tr>\n",
       "  </thead>\n",
       "  <tbody>\n",
       "    <tr>\n",
       "      <th>0</th>\n",
       "      <td>6147.0</td>\n",
       "      <td>6755.0</td>\n",
       "      <td>6944</td>\n",
       "      <td>5663.0</td>\n",
       "      <td>6318.0</td>\n",
       "      <td>6300.0</td>\n",
       "    </tr>\n",
       "    <tr>\n",
       "      <th>1</th>\n",
       "      <td>6500.0</td>\n",
       "      <td>6899.0</td>\n",
       "      <td>6906</td>\n",
       "      <td>5740.0</td>\n",
       "      <td>6365.0</td>\n",
       "      <td>6750.0</td>\n",
       "    </tr>\n",
       "    <tr>\n",
       "      <th>2</th>\n",
       "      <td>6629.0</td>\n",
       "      <td>6808.0</td>\n",
       "      <td>6632</td>\n",
       "      <td>5794.0</td>\n",
       "      <td>5959.0</td>\n",
       "      <td>6686.0</td>\n",
       "    </tr>\n",
       "    <tr>\n",
       "      <th>3</th>\n",
       "      <td>6647.0</td>\n",
       "      <td>6738.0</td>\n",
       "      <td>6510</td>\n",
       "      <td>6221.0</td>\n",
       "      <td>5741.0</td>\n",
       "      <td>6347.0</td>\n",
       "    </tr>\n",
       "    <tr>\n",
       "      <th>4</th>\n",
       "      <td>6401.0</td>\n",
       "      <td>6703.0</td>\n",
       "      <td>6584</td>\n",
       "      <td>6353.0</td>\n",
       "      <td>6201.0</td>\n",
       "      <td>6377.0</td>\n",
       "    </tr>\n",
       "  </tbody>\n",
       "</table>\n",
       "</div>"
      ],
      "text/plain": [
       "       X1      X2    X3      X4      X5      Y1\n",
       "0  6147.0  6755.0  6944  5663.0  6318.0  6300.0\n",
       "1  6500.0  6899.0  6906  5740.0  6365.0  6750.0\n",
       "2  6629.0  6808.0  6632  5794.0  5959.0  6686.0\n",
       "3  6647.0  6738.0  6510  6221.0  5741.0  6347.0\n",
       "4  6401.0  6703.0  6584  6353.0  6201.0  6377.0"
      ]
     },
     "execution_count": 18,
     "metadata": {},
     "output_type": "execute_result"
    }
   ],
   "source": [
    "pd_DataSet.head()"
   ]
  },
  {
   "cell_type": "markdown",
   "id": "2806fc70-d1c9-4d7a-99ca-a911f6af73d1",
   "metadata": {},
   "source": [
    "### 내일 데이터셋"
   ]
  },
  {
   "cell_type": "code",
   "execution_count": 20,
   "id": "7bc7ac53-4619-41de-a350-a2d0856bc473",
   "metadata": {
    "scrolled": true
   },
   "outputs": [
    {
     "data": {
      "text/html": [
       "<div>\n",
       "<style scoped>\n",
       "    .dataframe tbody tr th:only-of-type {\n",
       "        vertical-align: middle;\n",
       "    }\n",
       "\n",
       "    .dataframe tbody tr th {\n",
       "        vertical-align: top;\n",
       "    }\n",
       "\n",
       "    .dataframe thead th {\n",
       "        text-align: right;\n",
       "    }\n",
       "</style>\n",
       "<table border=\"1\" class=\"dataframe\">\n",
       "  <thead>\n",
       "    <tr style=\"text-align: right;\">\n",
       "      <th></th>\n",
       "      <th>fund_symbol</th>\n",
       "      <th>price_date</th>\n",
       "      <th>open</th>\n",
       "      <th>high</th>\n",
       "      <th>low</th>\n",
       "      <th>close</th>\n",
       "      <th>adj_close</th>\n",
       "      <th>volume</th>\n",
       "    </tr>\n",
       "  </thead>\n",
       "  <tbody>\n",
       "    <tr>\n",
       "      <th>0</th>\n",
       "      <td>AAA</td>\n",
       "      <td>2020-09-09</td>\n",
       "      <td>25.10</td>\n",
       "      <td>25.12</td>\n",
       "      <td>25.07</td>\n",
       "      <td>25.07</td>\n",
       "      <td>24.85</td>\n",
       "      <td>17300</td>\n",
       "    </tr>\n",
       "    <tr>\n",
       "      <th>1</th>\n",
       "      <td>AAA</td>\n",
       "      <td>2020-09-10</td>\n",
       "      <td>25.06</td>\n",
       "      <td>25.07</td>\n",
       "      <td>25.05</td>\n",
       "      <td>25.07</td>\n",
       "      <td>24.85</td>\n",
       "      <td>23500</td>\n",
       "    </tr>\n",
       "    <tr>\n",
       "      <th>2</th>\n",
       "      <td>AAA</td>\n",
       "      <td>2020-09-11</td>\n",
       "      <td>25.04</td>\n",
       "      <td>25.05</td>\n",
       "      <td>25.02</td>\n",
       "      <td>25.03</td>\n",
       "      <td>24.81</td>\n",
       "      <td>33400</td>\n",
       "    </tr>\n",
       "    <tr>\n",
       "      <th>3</th>\n",
       "      <td>AAA</td>\n",
       "      <td>2020-09-14</td>\n",
       "      <td>25.01</td>\n",
       "      <td>25.06</td>\n",
       "      <td>25.01</td>\n",
       "      <td>25.02</td>\n",
       "      <td>24.80</td>\n",
       "      <td>13100</td>\n",
       "    </tr>\n",
       "    <tr>\n",
       "      <th>4</th>\n",
       "      <td>AAA</td>\n",
       "      <td>2020-09-15</td>\n",
       "      <td>25.02</td>\n",
       "      <td>25.03</td>\n",
       "      <td>25.01</td>\n",
       "      <td>25.01</td>\n",
       "      <td>24.79</td>\n",
       "      <td>12100</td>\n",
       "    </tr>\n",
       "  </tbody>\n",
       "</table>\n",
       "</div>"
      ],
      "text/plain": [
       "  fund_symbol  price_date   open   high    low  close  adj_close  volume\n",
       "0         AAA  2020-09-09  25.10  25.12  25.07  25.07      24.85   17300\n",
       "1         AAA  2020-09-10  25.06  25.07  25.05  25.07      24.85   23500\n",
       "2         AAA  2020-09-11  25.04  25.05  25.02  25.03      24.81   33400\n",
       "3         AAA  2020-09-14  25.01  25.06  25.01  25.02      24.80   13100\n",
       "4         AAA  2020-09-15  25.02  25.03  25.01  25.01      24.79   12100"
      ]
     },
     "execution_count": 20,
     "metadata": {},
     "output_type": "execute_result"
    }
   ],
   "source": [
    "df = pd.read_csv('im_ML/ETF prices.csv')\n",
    "df.head()"
   ]
  },
  {
   "cell_type": "code",
   "execution_count": 21,
   "id": "a0f7e979-50b8-447d-8e40-a381cc7c5d99",
   "metadata": {},
   "outputs": [
    {
     "name": "stdout",
     "output_type": "stream",
     "text": [
      "<class 'pandas.core.frame.DataFrame'>\n",
      "RangeIndex: 3866030 entries, 0 to 3866029\n",
      "Data columns (total 8 columns):\n",
      " #   Column       Dtype  \n",
      "---  ------       -----  \n",
      " 0   fund_symbol  object \n",
      " 1   price_date   object \n",
      " 2   open         float64\n",
      " 3   high         float64\n",
      " 4   low          float64\n",
      " 5   close        float64\n",
      " 6   adj_close    float64\n",
      " 7   volume       int64  \n",
      "dtypes: float64(5), int64(1), object(2)\n",
      "memory usage: 236.0+ MB\n"
     ]
    }
   ],
   "source": [
    "df.info()"
   ]
  },
  {
   "cell_type": "code",
   "execution_count": 22,
   "id": "44455fed-273b-41b8-bdda-07d676a93403",
   "metadata": {},
   "outputs": [
    {
     "data": {
      "text/plain": [
       "(3866030, 8)"
      ]
     },
     "execution_count": 22,
     "metadata": {},
     "output_type": "execute_result"
    }
   ],
   "source": [
    "df.shape"
   ]
  },
  {
   "cell_type": "code",
   "execution_count": 23,
   "id": "a3c3e6c0-27b1-4ee8-b95e-28869c799395",
   "metadata": {},
   "outputs": [
    {
     "data": {
      "text/plain": [
       "Index(['fund_symbol', 'price_date', 'open', 'high', 'low', 'close',\n",
       "       'adj_close', 'volume'],\n",
       "      dtype='object')"
      ]
     },
     "execution_count": 23,
     "metadata": {},
     "output_type": "execute_result"
    }
   ],
   "source": [
    "df.columns"
   ]
  },
  {
   "cell_type": "code",
   "execution_count": null,
   "id": "eaa71f08-72c3-4201-a433-476468066d78",
   "metadata": {},
   "outputs": [],
   "source": []
  },
  {
   "cell_type": "code",
   "execution_count": 24,
   "id": "7d7d4d95-78ee-43f4-96c8-d090ff0b1e08",
   "metadata": {},
   "outputs": [
    {
     "data": {
      "text/html": [
       "<div>\n",
       "<style scoped>\n",
       "    .dataframe tbody tr th:only-of-type {\n",
       "        vertical-align: middle;\n",
       "    }\n",
       "\n",
       "    .dataframe tbody tr th {\n",
       "        vertical-align: top;\n",
       "    }\n",
       "\n",
       "    .dataframe thead th {\n",
       "        text-align: right;\n",
       "    }\n",
       "</style>\n",
       "<table border=\"1\" class=\"dataframe\">\n",
       "  <thead>\n",
       "    <tr style=\"text-align: right;\">\n",
       "      <th></th>\n",
       "      <th>은행명</th>\n",
       "      <th>지점명</th>\n",
       "      <th>주소</th>\n",
       "      <th>전화번호</th>\n",
       "    </tr>\n",
       "  </thead>\n",
       "  <tbody>\n",
       "    <tr>\n",
       "      <th>0</th>\n",
       "      <td>KEB하나은행</td>\n",
       "      <td>가스공사</td>\n",
       "      <td>대구광역시 동구 첨단로 120 한국가스공사</td>\n",
       "      <td>053-961-4080</td>\n",
       "    </tr>\n",
       "    <tr>\n",
       "      <th>1</th>\n",
       "      <td>KEB하나은행</td>\n",
       "      <td>대구혁신도시</td>\n",
       "      <td>대구광역시 동구 이노밸리로 309</td>\n",
       "      <td>053-621-1111</td>\n",
       "    </tr>\n",
       "    <tr>\n",
       "      <th>2</th>\n",
       "      <td>국민은행</td>\n",
       "      <td>신암동</td>\n",
       "      <td>대구광역시 동구 아양로 34</td>\n",
       "      <td>053-952-1351</td>\n",
       "    </tr>\n",
       "    <tr>\n",
       "      <th>3</th>\n",
       "      <td>국민은행</td>\n",
       "      <td>대구혁신도시</td>\n",
       "      <td>대구광역시 동구 이노밸리로322</td>\n",
       "      <td>053-963-6515</td>\n",
       "    </tr>\n",
       "    <tr>\n",
       "      <th>4</th>\n",
       "      <td>국민은행</td>\n",
       "      <td>대구이시아폴리스</td>\n",
       "      <td>대구광역시 동구 팔공로 249</td>\n",
       "      <td>053-982-6351</td>\n",
       "    </tr>\n",
       "  </tbody>\n",
       "</table>\n",
       "</div>"
      ],
      "text/plain": [
       "       은행명       지점명                       주소          전화번호\n",
       "0  KEB하나은행      가스공사  대구광역시 동구 첨단로 120 한국가스공사  053-961-4080\n",
       "1  KEB하나은행    대구혁신도시       대구광역시 동구 이노밸리로 309  053-621-1111\n",
       "2     국민은행       신암동          대구광역시 동구 아양로 34  053-952-1351\n",
       "3     국민은행    대구혁신도시        대구광역시 동구 이노밸리로322  053-963-6515\n",
       "4     국민은행  대구이시아폴리스         대구광역시 동구 팔공로 249  053-982-6351"
      ]
     },
     "execution_count": 24,
     "metadata": {},
     "output_type": "execute_result"
    }
   ],
   "source": [
    "df1 = pd.read_csv('im_ML/대구광역시_동구_금융기관현황_20240306.csv', encoding='euc-kr')\n",
    "df1.head()"
   ]
  },
  {
   "cell_type": "code",
   "execution_count": 25,
   "id": "c97b395d-0b92-402a-8fe6-f7880948e47b",
   "metadata": {},
   "outputs": [
    {
     "data": {
      "text/plain": [
       "(108, 4)"
      ]
     },
     "execution_count": 25,
     "metadata": {},
     "output_type": "execute_result"
    }
   ],
   "source": [
    "df1.shape"
   ]
  },
  {
   "cell_type": "code",
   "execution_count": 26,
   "id": "2f9fae82-1f83-45b9-88ff-025cb65abe0e",
   "metadata": {},
   "outputs": [
    {
     "data": {
      "text/plain": [
       "은행명     0\n",
       "지점명     0\n",
       "주소      0\n",
       "전화번호    0\n",
       "dtype: int64"
      ]
     },
     "execution_count": 26,
     "metadata": {},
     "output_type": "execute_result"
    }
   ],
   "source": [
    "df1.isnull().sum()"
   ]
  },
  {
   "cell_type": "code",
   "execution_count": 28,
   "id": "32a6cf31-15f3-4ef5-b596-458316adfdcd",
   "metadata": {},
   "outputs": [
    {
     "name": "stdout",
     "output_type": "stream",
     "text": [
      "<class 'pandas.core.frame.DataFrame'>\n",
      "RangeIndex: 183 entries, 0 to 182\n",
      "Data columns (total 11 columns):\n",
      " #   Column       Non-Null Count  Dtype\n",
      "---  ------       --------------  -----\n",
      " 0   연도           183 non-null    int64\n",
      " 1   월            183 non-null    int64\n",
      " 2   구입 세대수(호)    183 non-null    int64\n",
      " 3   구입 금액        183 non-null    int64\n",
      " 4   전세 세대수(호)    183 non-null    int64\n",
      " 5   전세 금액        183 non-null    int64\n",
      " 6   중도금 세대수(호)   183 non-null    int64\n",
      " 7   중도금 금액       183 non-null    int64\n",
      " 8   개량 금액        183 non-null    int64\n",
      " 9   사업자보증세대수(호)  183 non-null    int64\n",
      " 10  사업자보증금액      183 non-null    int64\n",
      "dtypes: int64(11)\n",
      "memory usage: 15.9 KB\n"
     ]
    }
   ],
   "source": [
    "df3 = pd.read_csv('im_ML/한국주택금융공사_주택금융신용보증 현황_20190630.csv', encoding='euc-kr')\n",
    "df3.info()"
   ]
  },
  {
   "cell_type": "code",
   "execution_count": 31,
   "id": "bd9905ad-9f35-444e-9ce1-a5ca0c086ca4",
   "metadata": {},
   "outputs": [
    {
     "data": {
      "text/html": [
       "<div>\n",
       "<style scoped>\n",
       "    .dataframe tbody tr th:only-of-type {\n",
       "        vertical-align: middle;\n",
       "    }\n",
       "\n",
       "    .dataframe tbody tr th {\n",
       "        vertical-align: top;\n",
       "    }\n",
       "\n",
       "    .dataframe thead th {\n",
       "        text-align: right;\n",
       "    }\n",
       "</style>\n",
       "<table border=\"1\" class=\"dataframe\">\n",
       "  <thead>\n",
       "    <tr style=\"text-align: right;\">\n",
       "      <th></th>\n",
       "      <th>연도</th>\n",
       "      <th>월</th>\n",
       "      <th>구입 세대수(호)</th>\n",
       "      <th>구입 금액</th>\n",
       "      <th>전세 세대수(호)</th>\n",
       "      <th>전세 금액</th>\n",
       "      <th>중도금 세대수(호)</th>\n",
       "      <th>중도금 금액</th>\n",
       "      <th>개량 금액</th>\n",
       "      <th>사업자보증세대수(호)</th>\n",
       "      <th>사업자보증금액</th>\n",
       "    </tr>\n",
       "  </thead>\n",
       "  <tbody>\n",
       "    <tr>\n",
       "      <th>0</th>\n",
       "      <td>2004</td>\n",
       "      <td>4</td>\n",
       "      <td>4155</td>\n",
       "      <td>516</td>\n",
       "      <td>9515</td>\n",
       "      <td>1460</td>\n",
       "      <td>2678</td>\n",
       "      <td>1249</td>\n",
       "      <td>0</td>\n",
       "      <td>368</td>\n",
       "      <td>447</td>\n",
       "    </tr>\n",
       "    <tr>\n",
       "      <th>1</th>\n",
       "      <td>2004</td>\n",
       "      <td>5</td>\n",
       "      <td>4052</td>\n",
       "      <td>506</td>\n",
       "      <td>8499</td>\n",
       "      <td>1314</td>\n",
       "      <td>2487</td>\n",
       "      <td>1158</td>\n",
       "      <td>0</td>\n",
       "      <td>664</td>\n",
       "      <td>523</td>\n",
       "    </tr>\n",
       "    <tr>\n",
       "      <th>2</th>\n",
       "      <td>2004</td>\n",
       "      <td>6</td>\n",
       "      <td>3889</td>\n",
       "      <td>496</td>\n",
       "      <td>7874</td>\n",
       "      <td>1198</td>\n",
       "      <td>2331</td>\n",
       "      <td>1094</td>\n",
       "      <td>0</td>\n",
       "      <td>1339</td>\n",
       "      <td>488</td>\n",
       "    </tr>\n",
       "    <tr>\n",
       "      <th>3</th>\n",
       "      <td>2004</td>\n",
       "      <td>7</td>\n",
       "      <td>3167</td>\n",
       "      <td>403</td>\n",
       "      <td>6123</td>\n",
       "      <td>934</td>\n",
       "      <td>2147</td>\n",
       "      <td>994</td>\n",
       "      <td>0</td>\n",
       "      <td>2963</td>\n",
       "      <td>663</td>\n",
       "    </tr>\n",
       "    <tr>\n",
       "      <th>4</th>\n",
       "      <td>2004</td>\n",
       "      <td>8</td>\n",
       "      <td>3439</td>\n",
       "      <td>438</td>\n",
       "      <td>6362</td>\n",
       "      <td>979</td>\n",
       "      <td>1938</td>\n",
       "      <td>925</td>\n",
       "      <td>0</td>\n",
       "      <td>1298</td>\n",
       "      <td>368</td>\n",
       "    </tr>\n",
       "  </tbody>\n",
       "</table>\n",
       "</div>"
      ],
      "text/plain": [
       "     연도  월  구입 세대수(호)  구입 금액   전세 세대수(호)  전세 금액   중도금 세대수(호)  중도금 금액   개량 금액   \\\n",
       "0  2004  4       4155     516       9515    1460        2678     1249       0   \n",
       "1  2004  5       4052     506       8499    1314        2487     1158       0   \n",
       "2  2004  6       3889     496       7874    1198        2331     1094       0   \n",
       "3  2004  7       3167     403       6123     934        2147      994       0   \n",
       "4  2004  8       3439     438       6362     979        1938      925       0   \n",
       "\n",
       "   사업자보증세대수(호)  사업자보증금액   \n",
       "0          368       447  \n",
       "1          664       523  \n",
       "2         1339       488  \n",
       "3         2963       663  \n",
       "4         1298       368  "
      ]
     },
     "execution_count": 31,
     "metadata": {},
     "output_type": "execute_result"
    }
   ],
   "source": [
    "df3.head()"
   ]
  },
  {
   "cell_type": "code",
   "execution_count": null,
   "id": "82430e2a-f321-45a2-a5fc-b64e6a9cf6b2",
   "metadata": {},
   "outputs": [],
   "source": [
    "# https://www.data.go.kr/data/3072325/fileData.do 출처"
   ]
  }
 ],
 "metadata": {
  "kernelspec": {
   "display_name": "Python 3 (ipykernel)",
   "language": "python",
   "name": "python3"
  },
  "language_info": {
   "codemirror_mode": {
    "name": "ipython",
    "version": 3
   },
   "file_extension": ".py",
   "mimetype": "text/x-python",
   "name": "python",
   "nbconvert_exporter": "python",
   "pygments_lexer": "ipython3",
   "version": "3.11.7"
  }
 },
 "nbformat": 4,
 "nbformat_minor": 5
}
